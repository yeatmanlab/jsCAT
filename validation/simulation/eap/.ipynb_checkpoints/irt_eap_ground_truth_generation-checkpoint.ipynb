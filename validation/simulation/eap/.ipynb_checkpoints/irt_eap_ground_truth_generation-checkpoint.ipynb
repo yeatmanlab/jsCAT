{
 "cells": [
  {
   "cell_type": "code",
   "execution_count": null,
   "id": "ff5d3f25-bd47-410b-946f-2d45fe4169d3",
   "metadata": {},
   "outputs": [],
   "source": [
    "# Import stuff\n",
    "import numpy as np\n",
    "import matplotlib.pyplot as plt\n",
    "import pandas as pd\n",
    "import seaborn as sns\n",
    "from girth.synthetic import create_synthetic_irt_dichotomous\n",
    "from girth import ability_mle, ability_eap, ability_map\n",
    "from scipy.stats import norm"
   ]
  },
  {
   "cell_type": "code",
   "execution_count": null,
   "id": "69cbb8be-8844-44ad-bb0a-59a5c841bd84",
   "metadata": {},
   "outputs": [],
   "source": [
    "# Create synthetic data\n",
    "n_items = 50\n",
    "n_subjects = 1000\n",
    "difficulty = np.linspace(-2.5, 2.5, n_items)\n",
    "np.random.shuffle(difficulty)\n",
    "discrimination = np.random.rand(n_items) + 0.5\n",
    "theta_true = np.random.randn(n_subjects)\n",
    "\n",
    "syn_data = create_synthetic_irt_dichotomous(difficulty, discrimination, theta_true)"
   ]
  },
  {
   "cell_type": "code",
   "execution_count": null,
   "id": "b0a49cd7-a795-4f01-a314-557579217900",
   "metadata": {},
   "outputs": [],
   "source": [
    "# Estimate ability using original item parameters\n",
    "theta_estimate_mle = ability_mle(syn_data, difficulty, discrimination)\n",
    "theta_estimate_map = ability_map(syn_data, difficulty, discrimination)\n",
    "theta_estimate_eap = ability_eap(syn_data, difficulty, discrimination)"
   ]
  },
  {
   "cell_type": "code",
   "execution_count": null,
   "id": "817c33ed-946d-4e34-8040-395a3d98aa11",
   "metadata": {},
   "outputs": [],
   "source": [
    "n_validation_subjects = 10\n",
    "theta_estimate_history = []\n",
    "for n_responses in range(1, n_items + 1):\n",
    "    theta_estimate_history.append(\n",
    "        ability_eap(syn_data[:n_responses, :n_validation_subjects], difficulty[:n_responses], discrimination[:n_responses])\n",
    "    )\n",
    "theta_estimate_history = np.array(theta_estimate_history)"
   ]
  },
  {
   "cell_type": "code",
   "execution_count": null,
   "id": "bbdd2823-9de3-4e9b-9d58-d97ebebccc94",
   "metadata": {},
   "outputs": [],
   "source": [
    "df_items = pd.DataFrame({\"a\": discrimination, \"b\": difficulty})\n",
    "df_responses = pd.DataFrame(syn_data[:, :n_validation_subjects])\n",
    "df_theta_history = pd.DataFrame(theta_estimate_history)"
   ]
  },
  {
   "cell_type": "code",
   "execution_count": null,
   "id": "014c29c9-fcbe-4fd4-9016-2fe466da0c43",
   "metadata": {},
   "outputs": [],
   "source": [
    "df_items.to_csv(\"item_parameters.csv\", index=False)\n",
    "df_responses.to_csv(\"responses.csv\", index=False, header=False)\n",
    "df_theta_history.to_csv(\"theta_estimates.csv\", index=False, header=False)"
   ]
  },
  {
   "cell_type": "code",
   "execution_count": null,
   "id": "93e42592-a174-420b-aabe-7ba7d42dca97",
   "metadata": {},
   "outputs": [],
   "source": []
  }
 ],
 "metadata": {
  "kernelspec": {
   "display_name": "Python 3 (ipykernel)",
   "language": "python",
   "name": "python3"
  },
  "language_info": {
   "codemirror_mode": {
    "name": "ipython",
    "version": 3
   },
   "file_extension": ".py",
   "mimetype": "text/x-python",
   "name": "python",
   "nbconvert_exporter": "python",
   "pygments_lexer": "ipython3",
   "version": "3.13.5"
  }
 },
 "nbformat": 4,
 "nbformat_minor": 5
}
